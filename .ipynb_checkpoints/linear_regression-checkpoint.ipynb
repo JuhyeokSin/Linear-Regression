{
 "cells": [
  {
   "cell_type": "code",
   "execution_count": 29,
   "metadata": {},
   "outputs": [],
   "source": [
    "import sys\n",
    "import numpy as np\n",
    "import matplotlib.pyplot as plt\n",
    "import pandas as pd\n",
    "import seaborn as sns\n",
    "from sklearn.linear_model import LinearRegression\n",
    "from sklearn.preprocessing import PolynomialFeatures"
   ]
  },
  {
   "cell_type": "code",
   "execution_count": 30,
   "metadata": {},
   "outputs": [],
   "source": [
    "def polynomial_regression(x, y, degree_my = 1):\n",
    "  \"\"\"\n",
    "  Return R^2, coefficients and the interception\n",
    "  \n",
    "  polynomial_regression(x, y, degree_my = 1) -> (r_sq, coefficients, interception)\n",
    "\n",
    "  Parameters\n",
    "  ----------\n",
    "  x: np.array, regressors\n",
    "  y: np.array, predictors\n",
    "  degree: int, optional, default 1, the degree of the model function\n",
    "  \n",
    "  Examples\n",
    "  --------\n",
    "  >>> x = np.array([16, 17, 23, 25, 28, 31, 40, 48, 54, 67]).reshape((-1, 1))\n",
    "  >>> y = np.array([180, 163, 172, 168, 165, 156, 153, 144, 139, 130])\n",
    "\n",
    "  >>> x\n",
    "  array([[16],\n",
    "         [17],\n",
    "         [23],\n",
    "         [25],\n",
    "         [28],\n",
    "         [31],\n",
    "         [40],\n",
    "         [48],\n",
    "         [54],\n",
    "         [67]])\n",
    "  >>> y\n",
    "  array([180, 163, 172, 168, 165, 156, 153, 144, 139, 130])\n",
    "  >>> polynomial_regression(x, y)\n",
    "  (0.9141779810921304, array([-0.88693692]), 187.95409848808737)\n",
    "  >>> polynomial_regression(x, y, 2)\n",
    "  (0.9147602910606555, array([-1.01045344,  0.00153909]), 189.99421074646295)\n",
    "  >>> polynomial_regression(x, y, 5)\n",
    "  (0.9184131002053144, array([ 7.73620330e+00, -4.45581354e-01,  1.08361046e-02, -1.26584517e-04,\n",
    "          5.75609467e-07]), 126.4417938766303)\n",
    "  >>> \n",
    "  \"\"\"\n",
    "  transformer = PolynomialFeatures(degree = degree_my, include_bias = False)\n",
    "  transformer.fit(x)\n",
    "  x_ = transformer.transform(x)\n",
    "\n",
    "  model = LinearRegression().fit(x_, y)\n",
    "  \n",
    "  coefficient_of_determination = model.score(x_, y)\n",
    "  interception = model.intercept_\n",
    "  coefficients = model.coef_\n",
    "\n",
    "  return (coefficient_of_determination, coefficients, interception)"
   ]
  },
  {
   "cell_type": "code",
   "execution_count": 31,
   "metadata": {},
   "outputs": [],
   "source": [
    "def linear_regression(x, y):\n",
    "    '''\n",
    "    returns R^2, slop, and intercept\n",
    "    '''\n",
    "    return polynomial_regression(x, y, 1)"
   ]
  },
  {
   "cell_type": "code",
   "execution_count": 32,
   "metadata": {},
   "outputs": [],
   "source": [
    "def linear_regression_output(r_sq, slope, intercept, prediction_function):\n",
    "#     coefficient_of_determination = r_sq\n",
    "    print('The linear regression model is y = %.2f*x + %.2f' % (slope, intercept))\n",
    "    age = int(input('what is your age: '))\n",
    "    print('your recommended HR is %d' % (prediction_function(age)))\n",
    "    print('This is %.2f percent accurate' % (r_sq * 100))"
   ]
  },
  {
   "cell_type": "code",
   "execution_count": 33,
   "metadata": {},
   "outputs": [],
   "source": [
    "def quadratic_regression(x, y):\n",
    "    return polynomial_regression(x, y, 2)"
   ]
  },
  {
   "cell_type": "code",
   "execution_count": 34,
   "metadata": {},
   "outputs": [],
   "source": [
    "def quadratic_regression_output(r_sq, coeff, intercept, prediction_function):\n",
    "\n",
    "  print('The quadratic regression model is y = %.4f*x^2 + %.4f*x + %.4f' % (coefficients[-1], coefficients[-2], interception))\n",
    "\n",
    "  age = int(input('what is your age: '))\n",
    "  print('your recomended HR is %d' % (prediction_function(age)))\n",
    "  print('this is %.2f percent accurate' %( coefficient_of_determination * 100) )"
   ]
  },
  {
   "cell_type": "code",
   "execution_count": 35,
   "metadata": {},
   "outputs": [],
   "source": [
    "# obtained the data from\n",
    "# https://johnstonmd.wordpress.com/teaching/math-178-spring-2017/\n",
    "x = np.array([16, 17, 23, 25, 28, 31, 40, 48, 54, 67]).reshape((-1, 1))\n",
    "y = np.array([180, 163, 172, 168, 165, 156, 153, 144, 139, 130])"
   ]
  },
  {
   "cell_type": "code",
   "execution_count": 36,
   "metadata": {},
   "outputs": [
    {
     "data": {
      "text/plain": [
       "Text(0, 0.5, 'heart rate')"
      ]
     },
     "execution_count": 36,
     "metadata": {},
     "output_type": "execute_result"
    },
    {
     "data": {
      "image/png": "[encoded data removed]",
      "text/plain": [
       "<Figure size 432x288 with 1 Axes>"
      ]
     },
     "metadata": {
      "needs_background": "light"
     },
     "output_type": "display_data"
    }
   ],
   "source": [
    "plt.scatter(x, y)\n",
    "plt.title(\"heart rate depending on ages\")\n",
    "plt.xlabel(\"age\")\n",
    "plt.ylabel(\"heart rate\")"
   ]
  },
  {
   "cell_type": "code",
   "execution_count": 37,
   "metadata": {},
   "outputs": [
    {
     "data": {
      "text/plain": [
       "(0.9147602910606554, array([-1.01045344,  0.00153909]), 189.99421074646295)"
      ]
     },
     "execution_count": 37,
     "metadata": {},
     "output_type": "execute_result"
    }
   ],
   "source": [
    "quadratic_regression(x, y)"
   ]
  },
  {
   "cell_type": "code",
   "execution_count": null,
   "metadata": {},
   "outputs": [],
   "source": []
  }
 ],
 "metadata": {
  "kernelspec": {
   "display_name": "Python 3",
   "language": "python",
   "name": "python3"
  },
  "language_info": {
   "codemirror_mode": {
    "name": "ipython",
    "version": 3
   },
   "file_extension": ".py",
   "mimetype": "text/x-python",
   "name": "python",
   "nbconvert_exporter": "python",
   "pygments_lexer": "ipython3",
   "version": "3.7.3"
  }
 },
 "nbformat": 4,
 "nbformat_minor": 2
}
